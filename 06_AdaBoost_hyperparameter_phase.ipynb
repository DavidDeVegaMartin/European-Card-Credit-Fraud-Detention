{
 "cells": [
  {
   "cell_type": "markdown",
   "id": "d2286e01",
   "metadata": {},
   "source": [
    "# AdaBoost Hyperparameter\n"
   ]
  },
  {
   "cell_type": "code",
   "execution_count": 1,
   "id": "7ec259e9",
   "metadata": {},
   "outputs": [],
   "source": [
    "# Generic Libraries\n",
    "import warnings\n",
    "warnings.filterwarnings('ignore')\n",
    "\n",
    "import pandas as pd\n",
    "from sklearn.model_selection import train_test_split\n",
    "from sklearn.preprocessing import  RobustScaler\n",
    "import numpy as np"
   ]
  },
  {
   "cell_type": "code",
   "execution_count": 2,
   "id": "41da35dd",
   "metadata": {},
   "outputs": [],
   "source": [
    "from sklearn.model_selection import cross_val_score \n",
    "from sklearn.ensemble import AdaBoostClassifier\n",
    "from sklearn.tree import DecisionTreeClassifier"
   ]
  },
  {
   "cell_type": "code",
   "execution_count": 3,
   "id": "5706ccf8",
   "metadata": {},
   "outputs": [],
   "source": [
    "# Metric Libraries\n",
    "from sklearn.metrics import roc_auc_score, accuracy_score, precision_score, recall_score, f1_score,fbeta_score, confusion_matrix\n",
    "\n",
    "# Grid\n",
    "from sklearn.model_selection import GridSearchCV"
   ]
  },
  {
   "cell_type": "code",
   "execution_count": 4,
   "id": "63a2fe12",
   "metadata": {},
   "outputs": [
    {
     "data": {
      "text/plain": [
       "((284807,), (284807, 29))"
      ]
     },
     "execution_count": 4,
     "metadata": {},
     "output_type": "execute_result"
    }
   ],
   "source": [
    "# Load dataset.\n",
    "df = pd.read_csv('creditcard.csv')\n",
    "df = df.drop(\"Time\", axis = 1)\n",
    "\n",
    "y= df[\"Class\"]\n",
    "X = df.drop(\"Class\", axis = 1)\n",
    "y.shape,X.shape"
   ]
  },
  {
   "cell_type": "code",
   "execution_count": 5,
   "id": "9b2e36ed",
   "metadata": {},
   "outputs": [
    {
     "data": {
      "text/plain": [
       "((227845, 29), (56962, 29), (227845,), (56962,))"
      ]
     },
     "execution_count": 5,
     "metadata": {},
     "output_type": "execute_result"
    }
   ],
   "source": [
    "# Separation of the dataset\n",
    "\n",
    "X_train, X_test, y_train, y_test = train_test_split(X, y, test_size=0.2, random_state = 42,stratify=y)\n",
    "X_train.shape, X_test.shape, y_train.shape, y_test.shape"
   ]
  },
  {
   "cell_type": "code",
   "execution_count": 6,
   "id": "622ecd42",
   "metadata": {},
   "outputs": [
    {
     "name": "stdout",
     "output_type": "stream",
     "text": [
      " Fraudulent Count for Full data :   492\n",
      " Fraudulent Count for Train data :  394\n",
      " Fraudulent Count for Test data :    98\n"
     ]
    }
   ],
   "source": [
    "# Check dataset composition\n",
    "\n",
    "print(\" Fraudulent Count for Full data :  \",np.sum(y))\n",
    "print(\" Fraudulent Count for Train data : \",np.sum(y_train))\n",
    "print(\" Fraudulent Count for Test data :   \",np.sum(y_test))"
   ]
  },
  {
   "cell_type": "code",
   "execution_count": 7,
   "id": "440d7599",
   "metadata": {},
   "outputs": [
    {
     "name": "stdout",
     "output_type": "stream",
     "text": [
      "Saved X_test & y_test\n"
     ]
    }
   ],
   "source": [
    "# Save the testing set for evaluation\n",
    "X_test_saved = X_test.copy()\n",
    "y_test_saved = y_test.copy()\n",
    "print(\"Saved X_test & y_test\")"
   ]
  },
  {
   "cell_type": "code",
   "execution_count": 8,
   "id": "a9a543e2",
   "metadata": {},
   "outputs": [],
   "source": [
    "# As PCA is already performed on the dataset from V1 to V28 features, we are scaling only Amount field\n",
    "scaler = RobustScaler()\n",
    "\n",
    "# Scaling the train data\n",
    "X_train[[\"Amount\"]] = scaler.fit_transform(X_train[[\"Amount\"]])\n",
    "\n",
    "# Transforming the test data\n",
    "X_test[[\"Amount\"]] = scaler.transform(X_test[[\"Amount\"]])"
   ]
  },
  {
   "cell_type": "markdown",
   "id": "d5883b56",
   "metadata": {},
   "source": [
    "## 1.- Transformaciones de datos."
   ]
  },
  {
   "cell_type": "markdown",
   "id": "955d1c81",
   "metadata": {},
   "source": [
    "## Dataset Original"
   ]
  },
  {
   "cell_type": "markdown",
   "id": "acfcbc55",
   "metadata": {},
   "source": [
    "### Smote"
   ]
  },
  {
   "cell_type": "code",
   "execution_count": 9,
   "id": "47d1e8f2",
   "metadata": {},
   "outputs": [
    {
     "name": "stdout",
     "output_type": "stream",
     "text": [
      "Original dataset shape Counter({0: 227451, 1: 394})\n",
      "Resampled dataset shape Counter({0: 227451, 1: 227451})\n"
     ]
    }
   ],
   "source": [
    "# Import of specific libraries\n",
    "from collections import Counter\n",
    "from imblearn.over_sampling import SMOTE\n",
    "\n",
    "# Initial situation\n",
    "print('Original dataset shape %s' % Counter(y_train))\n",
    "\n",
    "# Calculate OverSampling model\n",
    "smote = SMOTE(random_state=42)\n",
    "X_train_smote, y_train_smote = smote.fit_resample(X_train, y_train)\n",
    "\n",
    "print('Resampled dataset shape %s' % Counter(y_train_smote))"
   ]
  },
  {
   "cell_type": "markdown",
   "id": "06ee5803",
   "metadata": {},
   "source": [
    "### Adasyn"
   ]
  },
  {
   "cell_type": "code",
   "execution_count": 10,
   "id": "111572ac",
   "metadata": {},
   "outputs": [
    {
     "name": "stdout",
     "output_type": "stream",
     "text": [
      "Original dataset shape Counter({0: 227451, 1: 394})\n",
      "Resampled dataset shape Counter({1: 227458, 0: 227451})\n"
     ]
    }
   ],
   "source": [
    "# Import of specific libraries\n",
    "from imblearn.over_sampling import ADASYN\n",
    "\n",
    "# Initial situation\n",
    "print('Original dataset shape %s' % Counter(y_train))\n",
    "\n",
    "# Calculate OverSampling model\n",
    "adasyn = ADASYN(random_state=42)\n",
    "X_train_adasyn, y_train_adasyn = adasyn.fit_resample(X_train, y_train)\n",
    "\n",
    "print('Resampled dataset shape %s' % Counter(y_train_adasyn))"
   ]
  },
  {
   "cell_type": "code",
   "execution_count": 11,
   "id": "9ced6fcf",
   "metadata": {},
   "outputs": [],
   "source": [
    "# LOAD OF MODELS.\n",
    "# perfom cross validation on the X_train & y_train \n",
    "from sklearn.model_selection import StratifiedKFold\n",
    "\n",
    "# Initialize StratifiedKFold cross-validator\n",
    "# perform cross validation\n",
    "skf = StratifiedKFold(n_splits=3, random_state=None, shuffle=False)\n",
    "#  Shuffle is False because we need a constant best model when we use GridSearchCV"
   ]
  },
  {
   "cell_type": "markdown",
   "id": "5b3b149d",
   "metadata": {},
   "source": [
    "## Power Transformation"
   ]
  },
  {
   "cell_type": "markdown",
   "id": "2b8a084e",
   "metadata": {},
   "source": [
    "### Original"
   ]
  },
  {
   "cell_type": "code",
   "execution_count": 12,
   "id": "5a79635a",
   "metadata": {},
   "outputs": [],
   "source": [
    "# - Apply : preprocessing.PowerTransformer(copy=False) to fit & transform the train & test data\n",
    "\n",
    "from sklearn import metrics \n",
    "from sklearn import preprocessing\n",
    "\n",
    "\n",
    "from sklearn.preprocessing import PowerTransformer\n",
    "\n",
    "pt= preprocessing.PowerTransformer(method='yeo-johnson', copy=True)  # creates an instance of the PowerTransformer class.\n",
    "pt.fit(X_train)\n",
    "\n",
    "X_train_pt = pt.transform(X_train)\n",
    "X_test_pt = pt.transform(X_test)\n",
    "\n",
    "y_train_pt = y_train\n",
    "y_test_pt = y_test"
   ]
  },
  {
   "cell_type": "markdown",
   "id": "0fb12bb7",
   "metadata": {},
   "source": [
    "### Smote"
   ]
  },
  {
   "cell_type": "code",
   "execution_count": 13,
   "id": "f46a5622",
   "metadata": {},
   "outputs": [
    {
     "name": "stdout",
     "output_type": "stream",
     "text": [
      "Original dataset shape Counter({0: 227451, 1: 394})\n",
      "Resampled dataset shape Counter({0: 227451, 1: 227451})\n"
     ]
    }
   ],
   "source": [
    "# Import of specific libraries\n",
    "from collections import Counter\n",
    "from imblearn.over_sampling import SMOTE\n",
    "\n",
    "# Initial situation\n",
    "print('Original dataset shape %s' % Counter(y_train_pt))\n",
    "\n",
    "# Calculate OverSampling model\n",
    "smote = SMOTE(random_state=42)\n",
    "X_train_smote_pt, y_train_smote_pt = smote.fit_resample(X_train_pt, y_train_pt)\n",
    "\n",
    "print('Resampled dataset shape %s' % Counter(y_train_smote_pt))"
   ]
  },
  {
   "cell_type": "markdown",
   "id": "3724db56",
   "metadata": {},
   "source": [
    "### Adasyn"
   ]
  },
  {
   "cell_type": "code",
   "execution_count": 14,
   "id": "d277c7ab",
   "metadata": {},
   "outputs": [
    {
     "name": "stdout",
     "output_type": "stream",
     "text": [
      "Original dataset shape Counter({0: 227451, 1: 394})\n",
      "Resampled dataset shape Counter({1: 227459, 0: 227451})\n"
     ]
    }
   ],
   "source": [
    "# Import of specific libraries\n",
    "from imblearn.over_sampling import ADASYN\n",
    "\n",
    "# Initial situation\n",
    "print('Original dataset shape %s' % Counter(y_train))\n",
    "\n",
    "# Calculate OverSampling model\n",
    "adasyn = ADASYN(random_state=42)\n",
    "X_train_adasyn_pt, y_train_adasyn_pt = adasyn.fit_resample(X_train_pt, y_train_pt)\n",
    "\n",
    "print('Resampled dataset shape %s' % Counter(y_train_adasyn_pt))"
   ]
  },
  {
   "cell_type": "code",
   "execution_count": 15,
   "id": "91525104",
   "metadata": {},
   "outputs": [],
   "source": [
    "# Original distribution\n",
    "OR_origin = ['OR origin',X_train, y_train, X_test, y_test]\n",
    "OR_smote = ['OR smote',X_train_smote, y_train_smote, X_test, y_test]\n",
    "OR_adasyn = ['OR adasyn', X_train_adasyn, y_train_adasyn, X_test, y_test]\n",
    "\n",
    "# Power Transformation\n",
    "PT_origin = ['PT origin',X_train_pt, y_train_pt, X_test_pt, y_test_pt]\n",
    "PT_smote = ['PT smote',X_train_smote_pt, y_train_smote_pt, X_test_pt, y_test_pt ]\n",
    "PT_adasyn = ['PT adasyn', X_train_adasyn_pt, y_train_adasyn_pt, X_test_pt, y_test_pt]"
   ]
  },
  {
   "cell_type": "markdown",
   "id": "7e3eea4b",
   "metadata": {},
   "source": [
    "## Preparacion carga de modelos: librerias y funciones"
   ]
  },
  {
   "cell_type": "code",
   "execution_count": 16,
   "id": "90ca66e4",
   "metadata": {},
   "outputs": [],
   "source": [
    "# LOAD OF MODELS.\n",
    "# perfom cross validation on the X_train & y_train \n",
    "from sklearn.model_selection import StratifiedKFold\n",
    "\n",
    "# Initialize StratifiedKFold cross-validator\n",
    "# perform cross validation\n",
    "skf = StratifiedKFold(n_splits=3, random_state=None, shuffle=False)\n",
    "#  Shuffle is False because we need a constant best model when we use GridSearchCV"
   ]
  },
  {
   "cell_type": "code",
   "execution_count": 17,
   "id": "20100ba4",
   "metadata": {},
   "outputs": [],
   "source": [
    "from sklearn.model_selection import cross_val_score\n",
    "from sklearn.metrics import confusion_matrix\n",
    "from sklearn.model_selection import cross_val_predict"
   ]
  },
  {
   "cell_type": "code",
   "execution_count": 18,
   "id": "ae1d73c4",
   "metadata": {},
   "outputs": [],
   "source": [
    "def evaluate_adaboost(data_list, params_to_show=None, threshold=0.5, **ada_params):\n",
    "    '''\n",
    "    This function trains an AdaBoost model with a DecisionTree base estimator \n",
    "    and evaluates it with a custom classification threshold.\n",
    "    \n",
    "    Parameters:\n",
    "        - data_list: List containing [name, X_train, y_train, X_val, y_val].\n",
    "        - params_to_show: Dictionary with parameters to display (optional).\n",
    "        - threshold: The classification threshold (default = 0.5).\n",
    "        - **ada_params: Additional AdaBoost parameters to be passed dynamically.\n",
    "    \n",
    "    Return:\n",
    "        - A DataFrame with evaluation metrics (Accuracy, Precision, Recall, F1, F2, ROC-AUC, Confusion Matrix).\n",
    "    '''\n",
    "    # Diccionario de abreviaturas\n",
    "    param_abbreviations = {\n",
    "        'n_estimators': 'n_est',\n",
    "        'learning_rate': 'lr',\n",
    "        'threshold': 'th'\n",
    "    }\n",
    "    \n",
    "    # Unpack the data list\n",
    "    name = data_list[0]\n",
    "    X_train, y_train, X_val, y_val = data_list[1:]\n",
    "    \n",
    "    # Define the AdaBoost model with a DecisionTree base estimator\n",
    "    base_estimator = DecisionTreeClassifier(max_depth=ada_params.pop('max_depth', None), random_state=42)\n",
    "    ada_model = AdaBoostClassifier(base_estimator=base_estimator, **ada_params)\n",
    "    #ada_model = AdaBoostClassifier(DecisionTreeClassifier(random_state=42), **ada_params)\n",
    "    \n",
    "    # Train the model\n",
    "    ada_model.fit(X_train, y_train)\n",
    "    \n",
    "    # Predict probabilities\n",
    "    y_prob = ada_model.predict_proba(X_val)[:, 1]  # Probabilities for the positive class (fraud)\n",
    "    \n",
    "    # Adjust predictions based on the threshold\n",
    "    y_pred = (y_prob > threshold).astype(int)\n",
    "    \n",
    "    # Calculate metrics\n",
    "    cm = confusion_matrix(y_val, y_pred)\n",
    "    roc_auc = roc_auc_score(y_val, y_prob)  # Use probabilities to calculate ROC-AUC\n",
    "    accuracy = accuracy_score(y_val, y_pred)\n",
    "    precision = precision_score(y_val, y_pred)\n",
    "    recall = recall_score(y_val, y_pred)\n",
    "    f1 = f1_score(y_val, y_pred)\n",
    "    f2 = fbeta_score(y_val, y_pred, beta=2)\n",
    "    \n",
    "    # Create a string with the parameters to show\n",
    "    if params_to_show is None:\n",
    "        params_to_show = {'threshold': threshold}\n",
    "        params_to_show.update(ada_params)\n",
    "    \n",
    "    # Create a version with abbreviations\n",
    "    params_with_abbreviations = {\n",
    "        param_abbreviations.get(key, key): value for key, value in params_to_show.items()\n",
    "    }\n",
    "    \n",
    "    # Build the parameter string dynamically\n",
    "    params_str = [f\"{key}={value}\" for key, value in params_with_abbreviations.items()]\n",
    "    \n",
    "    # Store the results in a DataFrame\n",
    "    results_df = pd.DataFrame({\n",
    "        'Model': ['Adaboost'],\n",
    "        'Description': [data_list[0]],\n",
    "        'Parameter': [params_str],  # Show abbreviated parameters here\n",
    "        'ROC-AUC': [roc_auc],\n",
    "        'Accuracy': [accuracy],\n",
    "        'Precision': [precision],\n",
    "        'Recall': [recall],\n",
    "        'F1 Score': [f1],\n",
    "        'F2 Score': [f2],\n",
    "        'Confusion Matrix': [cm]\n",
    "    })\n",
    "    \n",
    "    # Adjust for display\n",
    "    pd.set_option('display.max_colwidth', None)\n",
    "\n",
    "    return results_df\n",
    "\n"
   ]
  },
  {
   "cell_type": "code",
   "execution_count": 19,
   "id": "59af66c9-c3e7-431d-8642-75e73924e2cc",
   "metadata": {},
   "outputs": [],
   "source": [
    "# Parameters for AdaBoost\n",
    "valores_learning_rate = [ 0.01, 0.05, 0.1, 0.5, 1] \n",
    "valores_n_estimators = [10, 15, 20, 25, 30]  \n",
    "valores_max_depth = [3, 5, 7]  \n",
    "\n",
    "total_results = []\n",
    "\n",
    "# Iterate over parameters to do combined testing\n",
    "for learning_rate in valores_learning_rate:\n",
    "    for n_estimators in valores_n_estimators:\n",
    "        for max_depth in valores_max_depth:\n",
    "            # Execute the function with different combinations of hyperparameters\n",
    "            results = evaluate_adaboost(\n",
    "                OR_smote,\n",
    "                #thresold = 0.5,\n",
    "                n_estimators=n_estimators,\n",
    "                learning_rate=learning_rate,\n",
    "                max_depth=max_depth\n",
    "            )\n",
    "            total_results.append(results)\n",
    "\n",
    "# Combine all results into a single DataFrame for visualization\n",
    "total_results_df = pd.concat(total_results, ignore_index=True)"
   ]
  },
  {
   "cell_type": "code",
   "execution_count": 20,
   "id": "b8b67e17-d878-4fa5-baca-cf41269503f5",
   "metadata": {},
   "outputs": [
    {
     "data": {
      "text/html": [
       "<div>\n",
       "<style scoped>\n",
       "    .dataframe tbody tr th:only-of-type {\n",
       "        vertical-align: middle;\n",
       "    }\n",
       "\n",
       "    .dataframe tbody tr th {\n",
       "        vertical-align: top;\n",
       "    }\n",
       "\n",
       "    .dataframe thead th {\n",
       "        text-align: right;\n",
       "    }\n",
       "</style>\n",
       "<table border=\"1\" class=\"dataframe\">\n",
       "  <thead>\n",
       "    <tr style=\"text-align: right;\">\n",
       "      <th></th>\n",
       "      <th>Model</th>\n",
       "      <th>Description</th>\n",
       "      <th>Parameter</th>\n",
       "      <th>ROC-AUC</th>\n",
       "      <th>Accuracy</th>\n",
       "      <th>Precision</th>\n",
       "      <th>Recall</th>\n",
       "      <th>F1 Score</th>\n",
       "      <th>F2 Score</th>\n",
       "      <th>Confusion Matrix</th>\n",
       "    </tr>\n",
       "  </thead>\n",
       "  <tbody>\n",
       "    <tr>\n",
       "      <th>0</th>\n",
       "      <td>Adaboost</td>\n",
       "      <td>OR smote</td>\n",
       "      <td>[th=0.5, n_est=25, lr=1]</td>\n",
       "      <td>0.961835</td>\n",
       "      <td>0.999350</td>\n",
       "      <td>0.790476</td>\n",
       "      <td>0.846939</td>\n",
       "      <td>0.817734</td>\n",
       "      <td>0.835010</td>\n",
       "      <td>[[56842, 22], [15, 83]]</td>\n",
       "    </tr>\n",
       "    <tr>\n",
       "      <th>1</th>\n",
       "      <td>Adaboost</td>\n",
       "      <td>OR smote</td>\n",
       "      <td>[th=0.5, n_est=30, lr=1]</td>\n",
       "      <td>0.966495</td>\n",
       "      <td>0.999386</td>\n",
       "      <td>0.818182</td>\n",
       "      <td>0.826531</td>\n",
       "      <td>0.822335</td>\n",
       "      <td>0.824847</td>\n",
       "      <td>[[56846, 18], [17, 81]]</td>\n",
       "    </tr>\n",
       "    <tr>\n",
       "      <th>2</th>\n",
       "      <td>Adaboost</td>\n",
       "      <td>OR smote</td>\n",
       "      <td>[th=0.5, n_est=30, lr=0.5]</td>\n",
       "      <td>0.960542</td>\n",
       "      <td>0.999298</td>\n",
       "      <td>0.778846</td>\n",
       "      <td>0.826531</td>\n",
       "      <td>0.801980</td>\n",
       "      <td>0.816532</td>\n",
       "      <td>[[56841, 23], [17, 81]]</td>\n",
       "    </tr>\n",
       "    <tr>\n",
       "      <th>3</th>\n",
       "      <td>Adaboost</td>\n",
       "      <td>OR smote</td>\n",
       "      <td>[th=0.5, n_est=25, lr=0.5]</td>\n",
       "      <td>0.954105</td>\n",
       "      <td>0.999298</td>\n",
       "      <td>0.790000</td>\n",
       "      <td>0.806122</td>\n",
       "      <td>0.797980</td>\n",
       "      <td>0.802846</td>\n",
       "      <td>[[56843, 21], [19, 79]]</td>\n",
       "    </tr>\n",
       "    <tr>\n",
       "      <th>4</th>\n",
       "      <td>Adaboost</td>\n",
       "      <td>OR smote</td>\n",
       "      <td>[th=0.5, n_est=20, lr=1]</td>\n",
       "      <td>0.952125</td>\n",
       "      <td>0.999175</td>\n",
       "      <td>0.738318</td>\n",
       "      <td>0.806122</td>\n",
       "      <td>0.770732</td>\n",
       "      <td>0.791583</td>\n",
       "      <td>[[56836, 28], [19, 79]]</td>\n",
       "    </tr>\n",
       "    <tr>\n",
       "      <th>...</th>\n",
       "      <td>...</td>\n",
       "      <td>...</td>\n",
       "      <td>...</td>\n",
       "      <td>...</td>\n",
       "      <td>...</td>\n",
       "      <td>...</td>\n",
       "      <td>...</td>\n",
       "      <td>...</td>\n",
       "      <td>...</td>\n",
       "      <td>...</td>\n",
       "    </tr>\n",
       "    <tr>\n",
       "      <th>70</th>\n",
       "      <td>Adaboost</td>\n",
       "      <td>OR smote</td>\n",
       "      <td>[th=0.5, n_est=30, lr=0.01]</td>\n",
       "      <td>0.949811</td>\n",
       "      <td>0.975598</td>\n",
       "      <td>0.058743</td>\n",
       "      <td>0.877551</td>\n",
       "      <td>0.110115</td>\n",
       "      <td>0.231681</td>\n",
       "      <td>[[55486, 1378], [12, 86]]</td>\n",
       "    </tr>\n",
       "    <tr>\n",
       "      <th>71</th>\n",
       "      <td>Adaboost</td>\n",
       "      <td>OR smote</td>\n",
       "      <td>[th=0.5, n_est=15, lr=0.01]</td>\n",
       "      <td>0.955059</td>\n",
       "      <td>0.975545</td>\n",
       "      <td>0.058020</td>\n",
       "      <td>0.867347</td>\n",
       "      <td>0.108765</td>\n",
       "      <td>0.228864</td>\n",
       "      <td>[[55484, 1380], [13, 85]]</td>\n",
       "    </tr>\n",
       "    <tr>\n",
       "      <th>72</th>\n",
       "      <td>Adaboost</td>\n",
       "      <td>OR smote</td>\n",
       "      <td>[th=0.5, n_est=20, lr=0.01]</td>\n",
       "      <td>0.957507</td>\n",
       "      <td>0.975756</td>\n",
       "      <td>0.057891</td>\n",
       "      <td>0.857143</td>\n",
       "      <td>0.108457</td>\n",
       "      <td>0.227889</td>\n",
       "      <td>[[55497, 1367], [14, 84]]</td>\n",
       "    </tr>\n",
       "    <tr>\n",
       "      <th>73</th>\n",
       "      <td>Adaboost</td>\n",
       "      <td>OR smote</td>\n",
       "      <td>[th=0.5, n_est=25, lr=0.01]</td>\n",
       "      <td>0.949936</td>\n",
       "      <td>0.975580</td>\n",
       "      <td>0.057495</td>\n",
       "      <td>0.857143</td>\n",
       "      <td>0.107761</td>\n",
       "      <td>0.226659</td>\n",
       "      <td>[[55487, 1377], [14, 84]]</td>\n",
       "    </tr>\n",
       "    <tr>\n",
       "      <th>74</th>\n",
       "      <td>Adaboost</td>\n",
       "      <td>OR smote</td>\n",
       "      <td>[th=0.5, n_est=10, lr=0.01]</td>\n",
       "      <td>0.958325</td>\n",
       "      <td>0.969804</td>\n",
       "      <td>0.047433</td>\n",
       "      <td>0.867347</td>\n",
       "      <td>0.089947</td>\n",
       "      <td>0.194597</td>\n",
       "      <td>[[55157, 1707], [13, 85]]</td>\n",
       "    </tr>\n",
       "  </tbody>\n",
       "</table>\n",
       "<p>75 rows × 10 columns</p>\n",
       "</div>"
      ],
      "text/plain": [
       "       Model Description                    Parameter   ROC-AUC  Accuracy  \\\n",
       "0   Adaboost    OR smote     [th=0.5, n_est=25, lr=1]  0.961835  0.999350   \n",
       "1   Adaboost    OR smote     [th=0.5, n_est=30, lr=1]  0.966495  0.999386   \n",
       "2   Adaboost    OR smote   [th=0.5, n_est=30, lr=0.5]  0.960542  0.999298   \n",
       "3   Adaboost    OR smote   [th=0.5, n_est=25, lr=0.5]  0.954105  0.999298   \n",
       "4   Adaboost    OR smote     [th=0.5, n_est=20, lr=1]  0.952125  0.999175   \n",
       "..       ...         ...                          ...       ...       ...   \n",
       "70  Adaboost    OR smote  [th=0.5, n_est=30, lr=0.01]  0.949811  0.975598   \n",
       "71  Adaboost    OR smote  [th=0.5, n_est=15, lr=0.01]  0.955059  0.975545   \n",
       "72  Adaboost    OR smote  [th=0.5, n_est=20, lr=0.01]  0.957507  0.975756   \n",
       "73  Adaboost    OR smote  [th=0.5, n_est=25, lr=0.01]  0.949936  0.975580   \n",
       "74  Adaboost    OR smote  [th=0.5, n_est=10, lr=0.01]  0.958325  0.969804   \n",
       "\n",
       "    Precision    Recall  F1 Score  F2 Score           Confusion Matrix  \n",
       "0    0.790476  0.846939  0.817734  0.835010    [[56842, 22], [15, 83]]  \n",
       "1    0.818182  0.826531  0.822335  0.824847    [[56846, 18], [17, 81]]  \n",
       "2    0.778846  0.826531  0.801980  0.816532    [[56841, 23], [17, 81]]  \n",
       "3    0.790000  0.806122  0.797980  0.802846    [[56843, 21], [19, 79]]  \n",
       "4    0.738318  0.806122  0.770732  0.791583    [[56836, 28], [19, 79]]  \n",
       "..        ...       ...       ...       ...                        ...  \n",
       "70   0.058743  0.877551  0.110115  0.231681  [[55486, 1378], [12, 86]]  \n",
       "71   0.058020  0.867347  0.108765  0.228864  [[55484, 1380], [13, 85]]  \n",
       "72   0.057891  0.857143  0.108457  0.227889  [[55497, 1367], [14, 84]]  \n",
       "73   0.057495  0.857143  0.107761  0.226659  [[55487, 1377], [14, 84]]  \n",
       "74   0.047433  0.867347  0.089947  0.194597  [[55157, 1707], [13, 85]]  \n",
       "\n",
       "[75 rows x 10 columns]"
      ]
     },
     "execution_count": 20,
     "metadata": {},
     "output_type": "execute_result"
    }
   ],
   "source": [
    "total_results_df_sorted = total_results_df.sort_values(by='F2 Score', ascending=False).reset_index(drop=True)\n",
    "total_results_df_sorted"
   ]
  },
  {
   "cell_type": "code",
   "execution_count": 21,
   "id": "4e40be22-f9c9-4fb9-9290-60603dbfa5f8",
   "metadata": {},
   "outputs": [],
   "source": [
    "adaboost_hyperparameters = total_results_df_sorted[total_results_df_sorted['F2 Score']>= .85].reset_index(drop=True)"
   ]
  },
  {
   "cell_type": "code",
   "execution_count": 22,
   "id": "8d9e9336-812c-4e34-847a-4123ef6002c4",
   "metadata": {},
   "outputs": [
    {
     "data": {
      "text/html": [
       "<div>\n",
       "<style scoped>\n",
       "    .dataframe tbody tr th:only-of-type {\n",
       "        vertical-align: middle;\n",
       "    }\n",
       "\n",
       "    .dataframe tbody tr th {\n",
       "        vertical-align: top;\n",
       "    }\n",
       "\n",
       "    .dataframe thead th {\n",
       "        text-align: right;\n",
       "    }\n",
       "</style>\n",
       "<table border=\"1\" class=\"dataframe\">\n",
       "  <thead>\n",
       "    <tr style=\"text-align: right;\">\n",
       "      <th></th>\n",
       "      <th>Model</th>\n",
       "      <th>Description</th>\n",
       "      <th>Parameter</th>\n",
       "      <th>ROC-AUC</th>\n",
       "      <th>Accuracy</th>\n",
       "      <th>Precision</th>\n",
       "      <th>Recall</th>\n",
       "      <th>F1 Score</th>\n",
       "      <th>F2 Score</th>\n",
       "      <th>Confusion Matrix</th>\n",
       "    </tr>\n",
       "  </thead>\n",
       "  <tbody>\n",
       "  </tbody>\n",
       "</table>\n",
       "</div>"
      ],
      "text/plain": [
       "Empty DataFrame\n",
       "Columns: [Model, Description, Parameter, ROC-AUC, Accuracy, Precision, Recall, F1 Score, F2 Score, Confusion Matrix]\n",
       "Index: []"
      ]
     },
     "execution_count": 22,
     "metadata": {},
     "output_type": "execute_result"
    }
   ],
   "source": [
    "adaboost_hyperparameters"
   ]
  },
  {
   "cell_type": "code",
   "execution_count": 23,
   "id": "b3fbf593-87cb-4949-9370-45fe641dacd9",
   "metadata": {},
   "outputs": [
    {
     "data": {
      "text/html": [
       "<div>\n",
       "<style scoped>\n",
       "    .dataframe tbody tr th:only-of-type {\n",
       "        vertical-align: middle;\n",
       "    }\n",
       "\n",
       "    .dataframe tbody tr th {\n",
       "        vertical-align: top;\n",
       "    }\n",
       "\n",
       "    .dataframe thead th {\n",
       "        text-align: right;\n",
       "    }\n",
       "</style>\n",
       "<table border=\"1\" class=\"dataframe\">\n",
       "  <thead>\n",
       "    <tr style=\"text-align: right;\">\n",
       "      <th></th>\n",
       "      <th>Model</th>\n",
       "      <th>Description</th>\n",
       "      <th>Parameter</th>\n",
       "      <th>ROC-AUC</th>\n",
       "      <th>Accuracy</th>\n",
       "      <th>Precision</th>\n",
       "      <th>Recall</th>\n",
       "      <th>F1 Score</th>\n",
       "      <th>F2 Score</th>\n",
       "      <th>Confusion Matrix</th>\n",
       "    </tr>\n",
       "  </thead>\n",
       "  <tbody>\n",
       "    <tr>\n",
       "      <th>0</th>\n",
       "      <td>Adaboost</td>\n",
       "      <td>OR smote</td>\n",
       "      <td>[th=0.5, n_est=10, lr=0.01]</td>\n",
       "      <td>0.958325</td>\n",
       "      <td>0.969804</td>\n",
       "      <td>0.047433</td>\n",
       "      <td>0.867347</td>\n",
       "      <td>0.089947</td>\n",
       "      <td>0.194597</td>\n",
       "      <td>[[55157, 1707], [13, 85]]</td>\n",
       "    </tr>\n",
       "    <tr>\n",
       "      <th>1</th>\n",
       "      <td>Adaboost</td>\n",
       "      <td>OR smote</td>\n",
       "      <td>[th=0.5, n_est=10, lr=0.01]</td>\n",
       "      <td>0.940441</td>\n",
       "      <td>0.984340</td>\n",
       "      <td>0.089876</td>\n",
       "      <td>0.887755</td>\n",
       "      <td>0.163227</td>\n",
       "      <td>0.319853</td>\n",
       "      <td>[[55983, 881], [11, 87]]</td>\n",
       "    </tr>\n",
       "    <tr>\n",
       "      <th>2</th>\n",
       "      <td>Adaboost</td>\n",
       "      <td>OR smote</td>\n",
       "      <td>[th=0.5, n_est=10, lr=0.01]</td>\n",
       "      <td>0.935970</td>\n",
       "      <td>0.985780</td>\n",
       "      <td>0.094533</td>\n",
       "      <td>0.846939</td>\n",
       "      <td>0.170082</td>\n",
       "      <td>0.326772</td>\n",
       "      <td>[[56069, 795], [15, 83]]</td>\n",
       "    </tr>\n",
       "    <tr>\n",
       "      <th>3</th>\n",
       "      <td>Adaboost</td>\n",
       "      <td>OR smote</td>\n",
       "      <td>[th=0.5, n_est=15, lr=0.01]</td>\n",
       "      <td>0.955059</td>\n",
       "      <td>0.975545</td>\n",
       "      <td>0.058020</td>\n",
       "      <td>0.867347</td>\n",
       "      <td>0.108765</td>\n",
       "      <td>0.228864</td>\n",
       "      <td>[[55484, 1380], [13, 85]]</td>\n",
       "    </tr>\n",
       "    <tr>\n",
       "      <th>4</th>\n",
       "      <td>Adaboost</td>\n",
       "      <td>OR smote</td>\n",
       "      <td>[th=0.5, n_est=15, lr=0.01]</td>\n",
       "      <td>0.945361</td>\n",
       "      <td>0.984182</td>\n",
       "      <td>0.089048</td>\n",
       "      <td>0.887755</td>\n",
       "      <td>0.161860</td>\n",
       "      <td>0.317750</td>\n",
       "      <td>[[55974, 890], [11, 87]]</td>\n",
       "    </tr>\n",
       "    <tr>\n",
       "      <th>...</th>\n",
       "      <td>...</td>\n",
       "      <td>...</td>\n",
       "      <td>...</td>\n",
       "      <td>...</td>\n",
       "      <td>...</td>\n",
       "      <td>...</td>\n",
       "      <td>...</td>\n",
       "      <td>...</td>\n",
       "      <td>...</td>\n",
       "      <td>...</td>\n",
       "    </tr>\n",
       "    <tr>\n",
       "      <th>70</th>\n",
       "      <td>Adaboost</td>\n",
       "      <td>OR smote</td>\n",
       "      <td>[th=0.5, n_est=25, lr=1]</td>\n",
       "      <td>0.947812</td>\n",
       "      <td>0.998736</td>\n",
       "      <td>0.594203</td>\n",
       "      <td>0.836735</td>\n",
       "      <td>0.694915</td>\n",
       "      <td>0.773585</td>\n",
       "      <td>[[56808, 56], [16, 82]]</td>\n",
       "    </tr>\n",
       "    <tr>\n",
       "      <th>71</th>\n",
       "      <td>Adaboost</td>\n",
       "      <td>OR smote</td>\n",
       "      <td>[th=0.5, n_est=25, lr=1]</td>\n",
       "      <td>0.961835</td>\n",
       "      <td>0.999350</td>\n",
       "      <td>0.790476</td>\n",
       "      <td>0.846939</td>\n",
       "      <td>0.817734</td>\n",
       "      <td>0.835010</td>\n",
       "      <td>[[56842, 22], [15, 83]]</td>\n",
       "    </tr>\n",
       "    <tr>\n",
       "      <th>72</th>\n",
       "      <td>Adaboost</td>\n",
       "      <td>OR smote</td>\n",
       "      <td>[th=0.5, n_est=30, lr=1]</td>\n",
       "      <td>0.963473</td>\n",
       "      <td>0.993188</td>\n",
       "      <td>0.184783</td>\n",
       "      <td>0.867347</td>\n",
       "      <td>0.304659</td>\n",
       "      <td>0.498826</td>\n",
       "      <td>[[56489, 375], [13, 85]]</td>\n",
       "    </tr>\n",
       "    <tr>\n",
       "      <th>73</th>\n",
       "      <td>Adaboost</td>\n",
       "      <td>OR smote</td>\n",
       "      <td>[th=0.5, n_est=30, lr=1]</td>\n",
       "      <td>0.951707</td>\n",
       "      <td>0.998876</td>\n",
       "      <td>0.630769</td>\n",
       "      <td>0.836735</td>\n",
       "      <td>0.719298</td>\n",
       "      <td>0.785441</td>\n",
       "      <td>[[56816, 48], [16, 82]]</td>\n",
       "    </tr>\n",
       "    <tr>\n",
       "      <th>74</th>\n",
       "      <td>Adaboost</td>\n",
       "      <td>OR smote</td>\n",
       "      <td>[th=0.5, n_est=30, lr=1]</td>\n",
       "      <td>0.966495</td>\n",
       "      <td>0.999386</td>\n",
       "      <td>0.818182</td>\n",
       "      <td>0.826531</td>\n",
       "      <td>0.822335</td>\n",
       "      <td>0.824847</td>\n",
       "      <td>[[56846, 18], [17, 81]]</td>\n",
       "    </tr>\n",
       "  </tbody>\n",
       "</table>\n",
       "<p>75 rows × 10 columns</p>\n",
       "</div>"
      ],
      "text/plain": [
       "       Model Description                    Parameter   ROC-AUC  Accuracy  \\\n",
       "0   Adaboost    OR smote  [th=0.5, n_est=10, lr=0.01]  0.958325  0.969804   \n",
       "1   Adaboost    OR smote  [th=0.5, n_est=10, lr=0.01]  0.940441  0.984340   \n",
       "2   Adaboost    OR smote  [th=0.5, n_est=10, lr=0.01]  0.935970  0.985780   \n",
       "3   Adaboost    OR smote  [th=0.5, n_est=15, lr=0.01]  0.955059  0.975545   \n",
       "4   Adaboost    OR smote  [th=0.5, n_est=15, lr=0.01]  0.945361  0.984182   \n",
       "..       ...         ...                          ...       ...       ...   \n",
       "70  Adaboost    OR smote     [th=0.5, n_est=25, lr=1]  0.947812  0.998736   \n",
       "71  Adaboost    OR smote     [th=0.5, n_est=25, lr=1]  0.961835  0.999350   \n",
       "72  Adaboost    OR smote     [th=0.5, n_est=30, lr=1]  0.963473  0.993188   \n",
       "73  Adaboost    OR smote     [th=0.5, n_est=30, lr=1]  0.951707  0.998876   \n",
       "74  Adaboost    OR smote     [th=0.5, n_est=30, lr=1]  0.966495  0.999386   \n",
       "\n",
       "    Precision    Recall  F1 Score  F2 Score           Confusion Matrix  \n",
       "0    0.047433  0.867347  0.089947  0.194597  [[55157, 1707], [13, 85]]  \n",
       "1    0.089876  0.887755  0.163227  0.319853   [[55983, 881], [11, 87]]  \n",
       "2    0.094533  0.846939  0.170082  0.326772   [[56069, 795], [15, 83]]  \n",
       "3    0.058020  0.867347  0.108765  0.228864  [[55484, 1380], [13, 85]]  \n",
       "4    0.089048  0.887755  0.161860  0.317750   [[55974, 890], [11, 87]]  \n",
       "..        ...       ...       ...       ...                        ...  \n",
       "70   0.594203  0.836735  0.694915  0.773585    [[56808, 56], [16, 82]]  \n",
       "71   0.790476  0.846939  0.817734  0.835010    [[56842, 22], [15, 83]]  \n",
       "72   0.184783  0.867347  0.304659  0.498826   [[56489, 375], [13, 85]]  \n",
       "73   0.630769  0.836735  0.719298  0.785441    [[56816, 48], [16, 82]]  \n",
       "74   0.818182  0.826531  0.822335  0.824847    [[56846, 18], [17, 81]]  \n",
       "\n",
       "[75 rows x 10 columns]"
      ]
     },
     "execution_count": 23,
     "metadata": {},
     "output_type": "execute_result"
    }
   ],
   "source": [
    "total_results_df"
   ]
  },
  {
   "cell_type": "code",
   "execution_count": null,
   "id": "9fd718b6-1844-46a1-8afc-fcf37c08d522",
   "metadata": {},
   "outputs": [],
   "source": [
    "adaboost_hyperparameters.to_csv(r'C:\\TFM\\06_hyperparameter\\adaboost.csv', index=False)"
   ]
  }
 ],
 "metadata": {
  "kernelspec": {
   "display_name": "Python 3 (ipykernel)",
   "language": "python",
   "name": "python3"
  },
  "language_info": {
   "codemirror_mode": {
    "name": "ipython",
    "version": 3
   },
   "file_extension": ".py",
   "mimetype": "text/x-python",
   "name": "python",
   "nbconvert_exporter": "python",
   "pygments_lexer": "ipython3",
   "version": "3.8.8"
  }
 },
 "nbformat": 4,
 "nbformat_minor": 5
}
